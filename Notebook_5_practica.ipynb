{
 "cells": [
  {
   "cell_type": "markdown",
   "metadata": {
    "id": "Gp2WddtV9IwG"
   },
   "source": [
    "# Programa Ingenias+ Data Science"
   ]
  },
  {
   "cell_type": "markdown",
   "metadata": {
    "id": "H4M1yVbf9IwH"
   },
   "source": [
    "Como dijimos en clases anteriores, Python tiene implementadas muchas librerias para poder trabajar con datos. En la clase de hoy trabajaremos con una de ellas: `Numpy`."
   ]
  },
  {
   "cell_type": "markdown",
   "metadata": {
    "id": "GdTT8WeL9IwI"
   },
   "source": [
    "Antes de comenzar, vamos a hablar un poco de esta libreria o modulo.\n",
    "\n",
    "**Numpy** es una librería optimizada para realizar cálculos numéricos con vectores y matrices. A diferencia de otros lenguajes de programación, Python no posee en su estructura central la figura de matrices. Eso quiere decir que para poder trabajar con esta estructura de datos deberiamos trabajar con listas de listas. NumPy introduce el concepto de arrays o matrices."
   ]
  },
  {
   "cell_type": "markdown",
   "metadata": {
    "id": "qWkq3EHK9IwK"
   },
   "source": [
    "Al ser de código abierto, `numpy` posee una documentación muy amplia que es **SIEMPRE RECOMENDABLE** consultar."
   ]
  },
  {
   "cell_type": "markdown",
   "metadata": {
    "id": "nxe3KLUO9IwL"
   },
   "source": [
    "- [Documentacion NumPy](https://devdocs.io/numpy/)"
   ]
  },
  {
   "cell_type": "markdown",
   "metadata": {
    "id": "l1Ay3nSs9IwN"
   },
   "source": [
    "## Clase 4: Introduccion a NumPy"
   ]
  },
  {
   "cell_type": "markdown",
   "metadata": {
    "id": "X03mviQS9IyL"
   },
   "source": [
    "# Ejercicios\n",
    "\n",
    "1. Crear un arreglo de ceros de longitud 12\n",
    "2. Crear un arreglo de longitud 10 con ceros en todas sus posiciones y un 10 en la posición número 5\n",
    "3. Crear un arreglo que tenga los números del 10 al 49\n",
    "4. Crear una arreglo 2d de shape (3, 3) que tenga los números del 0 al 8\n",
    "5. Crear un arreglo de números aleatorios de longitud 100 y obtener su media y varianza\n",
    "6. Calcular la media de un arreglo usando np.sum\n",
    "7. Calcular la varianza de un arreglo usando np.sum y np.mean\n",
    "8. Crear un array de números aleatorios usando np.random.randn.\n"
   ]
  },
  {
   "cell_type": "code",
   "execution_count": 1,
   "metadata": {
    "id": "G0NMKT609IyM"
   },
   "outputs": [],
   "source": [
    "# Llamamos a la libreria Numpy\n",
    "\n",
    "import numpy as np"
   ]
  },
  {
   "cell_type": "code",
   "execution_count": 2,
   "metadata": {},
   "outputs": [
    {
     "name": "stdout",
     "output_type": "stream",
     "text": [
      "[0. 0. 0. 0. 0. 0. 0. 0. 0. 0. 0. 0.]\n"
     ]
    }
   ],
   "source": [
    "# EJERCICIO 1\n",
    "\n",
    "# Creamos un arreglo de longitud 12 lleno de números 0\n",
    "arreglo_cero = np.zeros(12)\n",
    "\n",
    "# Imprimimos el arreglo cero\n",
    "print(arreglo_cero)"
   ]
  },
  {
   "cell_type": "code",
   "execution_count": null,
   "metadata": {},
   "outputs": [],
   "source": [
    "# EJERCICIO 2\n",
    "\n",
    "# Creamos un arreglo longitud 10 con ceros\n",
    "arreglo_longitud = np.zeros(10)\n",
    "\n",
    "# Asignamos el valor 10 en la posición número 5\n",
    "arreglo_longitud[4] = 10\n",
    "\n",
    "# Imprimimos arreglo longitud\n",
    "print(arreglo_longitud)"
   ]
  },
  {
   "cell_type": "code",
   "execution_count": null,
   "metadata": {},
   "outputs": [],
   "source": [
    "#EJERCICIO 3\n",
    "\n",
    "# Creamos un arreglo donde se nos va a generar una secuencia de números del 10 al 49\n",
    "arreglo_numeros = np.arange(10, 50)\n",
    "\n",
    "# Imprimimos arreglo números\n",
    "print(arreglo_numeros)"
   ]
  },
  {
   "cell_type": "code",
   "execution_count": null,
   "metadata": {},
   "outputs": [],
   "source": [
    "# EJERCICIO 4\n",
    "\n",
    "# Creamos un arreglo donde se nos va a generar una secuencia de números del 0 al 8\n",
    "# Utilizamos reshape para poder darle forma de matriz\n",
    "arreglo_dosde = np.arange(9).reshape(3, 3)\n",
    "\n",
    "# Imprimimos arreglo dosde\n",
    "print(arreglo_dosde)"
   ]
  },
  {
   "cell_type": "code",
   "execution_count": null,
   "metadata": {},
   "outputs": [],
   "source": [
    "#EJERCICIO 5\n",
    "\n",
    "# Creamos un arreglo de longitud 100 con números aleatorios\n",
    "num_aleatorio = np.random.random(100)\n",
    "\n",
    "# Calculamos la media\n",
    "media = np.mean(num_aleatorio)\n",
    "\n",
    "# Calculamos la varianza\n",
    "varianza = np.var(num_aleatorio)\n",
    "\n",
    "# Imprimimos media y varianza\n",
    "print(\"Su media es ->\", media)\n",
    "print(\"Su varianza es ->\", varianza)"
   ]
  },
  {
   "cell_type": "code",
   "execution_count": null,
   "metadata": {},
   "outputs": [],
   "source": [
    "#EJERCICIO 6\n",
    "\n",
    "# Creamos un arreglo con valores 1, 2, 3, 4, 5, 6, 7\n",
    "arreglo = np.array([1, 2, 3, 4, 5, 6, 7])\n",
    "\n",
    "# Calculamos la suma de los elementos\n",
    "suma = np.sum(arreglo)\n",
    "\n",
    "# Dividimos la suma para poder obtener la media\n",
    "media = suma / arreglo.size\n",
    "\n",
    "# Imprimimos media\n",
    "print(\"Media -> \", media)"
   ]
  },
  {
   "cell_type": "code",
   "execution_count": null,
   "metadata": {},
   "outputs": [],
   "source": [
    "#EJERCICIO 7\n",
    "\n",
    "# Creamos un arreglo con valores\n",
    "arreglo = np.array([3, 5, 7, 9, 11])\n",
    "\n",
    "# Calculamos la media del arreglo\n",
    "media = np.mean(arreglo)\n",
    "\n",
    "# Calculamos las diferencias al cuadrado entre cada uno de los elementos y la media\n",
    "varianza = np.mean((arreglo - media)**2)\n",
    "\n",
    "# Imprimimos la varianza\n",
    "print(\"Varianza -> \", varianza)"
   ]
  },
  {
   "cell_type": "code",
   "execution_count": null,
   "metadata": {},
   "outputs": [],
   "source": [
    "# EJERCICIO 8\n",
    "\n",
    "# Generamos un arreglo de 8 elementos con valores aleatorios\n",
    "arreglo_aleatorio = np.random.randn(8)\n",
    "\n",
    "# Imprimimos arreglo aleatorio\n",
    "print(arreglo_aleatorio)"
   ]
  }
 ],
 "metadata": {
  "colab": {
   "provenance": []
  },
  "kernelspec": {
   "display_name": "Python 3 (ipykernel)",
   "language": "python",
   "name": "python3"
  },
  "language_info": {
   "codemirror_mode": {
    "name": "ipython",
    "version": 3
   },
   "file_extension": ".py",
   "mimetype": "text/x-python",
   "name": "python",
   "nbconvert_exporter": "python",
   "pygments_lexer": "ipython3",
   "version": "3.11.7"
  }
 },
 "nbformat": 4,
 "nbformat_minor": 4
}
